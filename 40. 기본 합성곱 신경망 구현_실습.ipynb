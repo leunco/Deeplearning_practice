{
 "cells": [
  {
   "cell_type": "markdown",
   "metadata": {},
   "source": [
    "## 기본 합성곱 신경망 구현"
   ]
  },
  {
   "cell_type": "code",
   "execution_count": 1,
   "metadata": {
    "ExecuteTime": {
     "end_time": "2021-08-25T14:05:31.877828Z",
     "start_time": "2021-08-25T14:04:21.295590Z"
    }
   },
   "outputs": [],
   "source": [
    "import tensorflow as tf\n",
    "import numpy as np"
   ]
  },
  {
   "cell_type": "markdown",
   "metadata": {},
   "source": [
    "## 하이퍼 파라미터"
   ]
  },
  {
   "cell_type": "code",
   "execution_count": 2,
   "metadata": {
    "ExecuteTime": {
     "end_time": "2021-08-25T14:05:31.924704Z",
     "start_time": "2021-08-25T14:05:31.890796Z"
    }
   },
   "outputs": [],
   "source": [
    "EPOCHS = 10"
   ]
  },
  {
   "cell_type": "markdown",
   "metadata": {},
   "source": [
    "## 모델 정의"
   ]
  },
  {
   "cell_type": "code",
   "execution_count": 3,
   "metadata": {
    "ExecuteTime": {
     "end_time": "2021-08-25T14:13:41.617433Z",
     "start_time": "2021-08-25T14:13:41.564051Z"
    }
   },
   "outputs": [],
   "source": [
    "class ConvNet(tf.keras.Model):\n",
    "    def __init__(self):\n",
    "        super(ConvNet, self).__init__()\n",
    "        # TODO\n",
    "        conv2d = tf.keras.layers.Conv2D\n",
    "        maxpool = tf.keras.layers.MaxPool2D\n",
    "        self.sequence = list()\n",
    "        self.sequence.append(conv2d(16,(3,3), padding='same', activation='relu')) # 28*28*16\n",
    "        self.sequence.append(conv2d(16,(3,3), padding='same', activation='relu')) # 28*28*16\n",
    "        self.sequence.append(maxpool((2,2))) # 14*14*16\n",
    "        self.sequence.append(conv2d(32,(3,3), padding='same', activation='relu')) # 14*14*32\n",
    "        self.sequence.append(conv2d(32,(3,3), padding='same', activation='relu')) # 14*14*32\n",
    "        self.sequence.append(maxpool((2,2))) # 7*7*32\n",
    "        self.sequence.append(conv2d(64,(3,3), padding='same', activation='relu')) # 7*7*64\n",
    "        self.sequence.append(conv2d(64,(3,3), padding='same', activation='relu')) # 7*7*64\n",
    "        self.sequence.append(tf.keras.layers.Flatten()) #  1568\n",
    "        self.sequence.append(tf.keras.layers.Dense(2048, activation='relu'))\n",
    "        self.sequence.append(tf.keras.layers.Dense(10, activation='softmax'))\n",
    "        \n",
    "    def call(self, x, training=False, mask=None):\n",
    "        # TODO\n",
    "        for layer in self.sequence:\n",
    "            x = layer(x)\n",
    "        return x"
   ]
  },
  {
   "cell_type": "markdown",
   "metadata": {},
   "source": [
    "## 학습, 테스트 루프 정의"
   ]
  },
  {
   "cell_type": "code",
   "execution_count": 8,
   "metadata": {
    "ExecuteTime": {
     "end_time": "2021-08-25T14:22:23.869326Z",
     "start_time": "2021-08-25T14:22:23.835213Z"
    }
   },
   "outputs": [],
   "source": [
    "# Implement training loop\n",
    "@tf.function\n",
    "def train_step(model, images, labels, loss_object, optimizer, train_loss, train_accuracy):\n",
    "    with tf.GradientTape() as tape:\n",
    "        predictions = model(images)\n",
    "        loss = loss_object(labels, predictions)\n",
    "    gradients = tape.gradient(loss, model.trainable_variables)\n",
    "\n",
    "    optimizer.apply_gradients(zip(gradients, model.trainable_variables))\n",
    "    train_loss(loss)\n",
    "    train_accuracy(labels, predictions)\n",
    "\n",
    "# Implement algorithm test\n",
    "@tf.function\n",
    "def test_step(model, images, labels, loss_object, test_loss, test_accuracy):\n",
    "    predictions = model(images)\n",
    "\n",
    "    t_loss = loss_object(labels, predictions)\n",
    "    test_loss(t_loss)\n",
    "    test_accuracy(labels, predictions)"
   ]
  },
  {
   "cell_type": "markdown",
   "metadata": {},
   "source": [
    "## 데이터셋 준비\n"
   ]
  },
  {
   "cell_type": "code",
   "execution_count": 5,
   "metadata": {
    "ExecuteTime": {
     "end_time": "2021-08-25T14:20:44.531615Z",
     "start_time": "2021-08-25T14:20:42.275654Z"
    }
   },
   "outputs": [],
   "source": [
    "# TODO\n",
    "mnist = tf.keras.datasets.mnist\n",
    "\n",
    "(x_train, y_train), (x_test, y_test) = mnist.load_data()\n",
    "x_train, x_test = x_train / 255.0, x_test / 255.0 # float64로 인식 -> float32(나중에 문제X)\n",
    "\n",
    "# x_train : (NUM_SAMPLE, 28, 28) -> (NUM_SAMPLE, 28, 28, 1)\n",
    "\n",
    "x_train = x_train[..., tf.newaxis].astype(np.float32) \n",
    "x_test = x_test[..., tf.newaxis].astype(np.float32)\n",
    "\n",
    "train_ds = tf.data.Dataset.from_tensor_slices((x_train, y_train)).shuffle(10000).batch(32)\n",
    "test_ds = tf.data.Dataset.from_tensor_slices((x_test, y_test)).batch(32)"
   ]
  },
  {
   "cell_type": "markdown",
   "metadata": {},
   "source": [
    "## 학습 환경 정의\n",
    "### 모델 생성, 손실함수, 최적화 알고리즘, 평가지표 정의"
   ]
  },
  {
   "cell_type": "code",
   "execution_count": 6,
   "metadata": {
    "ExecuteTime": {
     "end_time": "2021-08-25T14:20:55.326478Z",
     "start_time": "2021-08-25T14:20:55.134989Z"
    }
   },
   "outputs": [],
   "source": [
    "# Create model\n",
    "model = ConvNet()\n",
    "\n",
    "# Define loss and optimizer\n",
    "loss_object = tf.keras.losses.SparseCategoricalCrossentropy()\n",
    "optimizer = tf.keras.optimizers.Adam()\n",
    "\n",
    "# Define performance metrics\n",
    "train_loss = tf.keras.metrics.Mean(name='train_loss')\n",
    "train_accuracy = tf.keras.metrics.SparseCategoricalAccuracy(name='train_accuracy')\n",
    "\n",
    "test_loss = tf.keras.metrics.Mean(name='test_loss')\n",
    "test_accuracy = tf.keras.metrics.SparseCategoricalAccuracy(name='test_accuracy')"
   ]
  },
  {
   "cell_type": "markdown",
   "metadata": {},
   "source": [
    "## 학습 루프 동작"
   ]
  },
  {
   "cell_type": "code",
   "execution_count": 9,
   "metadata": {
    "ExecuteTime": {
     "end_time": "2021-08-25T15:04:21.016411Z",
     "start_time": "2021-08-25T14:22:35.374211Z"
    }
   },
   "outputs": [
    {
     "name": "stdout",
     "output_type": "stream",
     "text": [
      "Epoch 1, Loss: 0.11228369176387787, Accuracy: 96.48833465576172, Test Loss: 0.04003530368208885, Test Accuracy: 98.58999633789062\n",
      "Epoch 2, Loss: 0.04464925080537796, Accuracy: 98.65333557128906, Test Loss: 0.03672342747449875, Test Accuracy: 98.94000244140625\n",
      "Epoch 3, Loss: 0.03208991885185242, Accuracy: 99.0566635131836, Test Loss: 0.030166903510689735, Test Accuracy: 99.15999603271484\n",
      "Epoch 4, Loss: 0.02728166989982128, Accuracy: 99.15166473388672, Test Loss: 0.043363139033317566, Test Accuracy: 98.80999755859375\n",
      "Epoch 5, Loss: 0.023431148380041122, Accuracy: 99.3116683959961, Test Loss: 0.034200455993413925, Test Accuracy: 99.12999725341797\n",
      "Epoch 6, Loss: 0.019534699618816376, Accuracy: 99.36833190917969, Test Loss: 0.03516232594847679, Test Accuracy: 99.06999969482422\n",
      "Epoch 7, Loss: 0.01734294928610325, Accuracy: 99.4816665649414, Test Loss: 0.03631116822361946, Test Accuracy: 99.12999725341797\n",
      "Epoch 8, Loss: 0.01647549867630005, Accuracy: 99.51166534423828, Test Loss: 0.03160976991057396, Test Accuracy: 99.08999633789062\n",
      "Epoch 9, Loss: 0.016284935176372528, Accuracy: 99.54000091552734, Test Loss: 0.03485063090920448, Test Accuracy: 98.91999816894531\n",
      "Epoch 10, Loss: 0.013800996355712414, Accuracy: 99.58499908447266, Test Loss: 0.052350085228681564, Test Accuracy: 98.94000244140625\n"
     ]
    }
   ],
   "source": [
    "for epoch in range(EPOCHS):\n",
    "    for images, labels in train_ds:\n",
    "        train_step(model, images, labels, loss_object, optimizer, train_loss, train_accuracy)\n",
    "\n",
    "    for test_images, test_labels in test_ds:\n",
    "        test_step(model, test_images, test_labels, loss_object, test_loss, test_accuracy)\n",
    "\n",
    "    template = 'Epoch {}, Loss: {}, Accuracy: {}, Test Loss: {}, Test Accuracy: {}'\n",
    "    print(template.format(epoch + 1,\n",
    "                          train_loss.result(),\n",
    "                          train_accuracy.result() * 100,\n",
    "                          test_loss.result(),\n",
    "                          test_accuracy.result() * 100))\n",
    "    train_loss.reset_states()\n",
    "    train_accuracy.reset_states()\n",
    "    test_loss.reset_states()\n",
    "    test_accuracy.reset_states()"
   ]
  },
  {
   "cell_type": "code",
   "execution_count": null,
   "metadata": {},
   "outputs": [],
   "source": []
  }
 ],
 "metadata": {
  "kernelspec": {
   "display_name": "Python 3",
   "language": "python",
   "name": "python3"
  },
  "language_info": {
   "codemirror_mode": {
    "name": "ipython",
    "version": 3
   },
   "file_extension": ".py",
   "mimetype": "text/x-python",
   "name": "python",
   "nbconvert_exporter": "python",
   "pygments_lexer": "ipython3",
   "version": "3.7.3"
  },
  "toc": {
   "base_numbering": 1,
   "nav_menu": {},
   "number_sections": false,
   "sideBar": true,
   "skip_h1_title": false,
   "title_cell": "Table of Contents",
   "title_sidebar": "Contents",
   "toc_cell": false,
   "toc_position": {},
   "toc_section_display": true,
   "toc_window_display": false
  }
 },
 "nbformat": 4,
 "nbformat_minor": 2
}
